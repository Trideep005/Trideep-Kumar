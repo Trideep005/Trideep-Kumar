{
  "nbformat": 4,
  "nbformat_minor": 0,
  "metadata": {
    "colab": {
      "provenance": [],
      "authorship_tag": "ABX9TyOaZ+nysnL5s8Xn3BiSs4G8",
      "include_colab_link": true
    },
    "kernelspec": {
      "name": "python3",
      "display_name": "Python 3"
    },
    "language_info": {
      "name": "python"
    }
  },
  "cells": [
    {
      "cell_type": "markdown",
      "metadata": {
        "id": "view-in-github",
        "colab_type": "text"
      },
      "source": [
        "<a href=\"https://colab.research.google.com/github/Trideep005/Trideep-Kumar/blob/main/BPSG%20adjust%20table.ipynb\" target=\"_parent\"><img src=\"https://colab.research.google.com/assets/colab-badge.svg\" alt=\"Open In Colab\"/></a>"
      ]
    },
    {
      "cell_type": "code",
      "execution_count": 2,
      "metadata": {
        "colab": {
          "base_uri": "https://localhost:8080/"
        },
        "id": "RviIVK3hz03b",
        "outputId": "7387cd46-3b20-4123-9649-a61870661b29"
      },
      "outputs": [
        {
          "output_type": "stream",
          "name": "stdout",
          "text": [
            "Predicted Thickness: [4608.88888889]\n",
            "Predicted P%: [5.67666667]\n",
            "Predicted B%: [2.425]\n",
            "Predicted Etch Ratio: [1.35213805]\n"
          ]
        },
        {
          "output_type": "stream",
          "name": "stderr",
          "text": [
            "/usr/local/lib/python3.10/dist-packages/sklearn/base.py:439: UserWarning: X does not have valid feature names, but LinearRegression was fitted with feature names\n",
            "  warnings.warn(\n",
            "/usr/local/lib/python3.10/dist-packages/sklearn/base.py:439: UserWarning: X does not have valid feature names, but LinearRegression was fitted with feature names\n",
            "  warnings.warn(\n",
            "/usr/local/lib/python3.10/dist-packages/sklearn/base.py:439: UserWarning: X does not have valid feature names, but LinearRegression was fitted with feature names\n",
            "  warnings.warn(\n",
            "/usr/local/lib/python3.10/dist-packages/sklearn/base.py:439: UserWarning: X does not have valid feature names, but LinearRegression was fitted with feature names\n",
            "  warnings.warn(\n"
          ]
        }
      ],
      "source": [
        "import pandas as pd\n",
        "from sklearn.linear_model import LinearRegression\n",
        "\n",
        "# Load the input and output data\n",
        "data = pd.DataFrame({\n",
        "    'TEOS': [550, 550, 550, 450, 650, 550, 550, 550, 550],\n",
        "    'TEB': [100, 100, 100, 100, 100, 80, 120, 100, 100],\n",
        "    'TEP': [55, 55, 55, 55, 55, 55, 55, 44, 66],\n",
        "    'Dep.Time': [53, 66, 79, 66, 66, 66, 66, 66, 66],\n",
        "    'Thickness': [3825, 4766, 5739, 4618, 4932, 4614, 4950, 4432, 5116],\n",
        "    'P%': [5.05, 5.15, 5.42, 5.32, 5.22, 5.67, 4.87, 4.67, 6.12],\n",
        "    'B%': [2.96, 2.95, 2.92, 3.71, 2.39, 2.42, 3.55, 2.95, 3.06],\n",
        "    'E.R': [1.158787879, 1.22, 1.234545455, 1.136060606, 1.270909091, 1.383939394, 1.113333333, 1.154242424, 1.27969697]\n",
        "})\n",
        "\n",
        "# Split the data into input features (X) and output variables (y)\n",
        "X = data[['TEOS', 'TEB', 'TEP', 'Dep.Time']]\n",
        "y_thickness = data['Thickness']\n",
        "y_p_percent = data['P%']\n",
        "y_b_percent = data['B%']\n",
        "y_etch_ratio = data['E.R']\n",
        "\n",
        "# Create regression models\n",
        "model_thickness = LinearRegression()\n",
        "model_p_percent = LinearRegression()\n",
        "model_b_percent = LinearRegression()\n",
        "model_etch_ratio = LinearRegression()\n",
        "\n",
        "# Train the models\n",
        "model_thickness.fit(X, y_thickness)\n",
        "model_p_percent.fit(X, y_p_percent)\n",
        "model_b_percent.fit(X, y_b_percent)\n",
        "model_etch_ratio.fit(X, y_etch_ratio)\n",
        "\n",
        "# Input parameters for prediction\n",
        "new_teos = 650\n",
        "new_teb = 80\n",
        "new_tep = 55\n",
        "new_dep_time = 66\n",
        "\n",
        "# Make predictions for each target variable\n",
        "predicted_thickness = model_thickness.predict([[new_teos, new_teb, new_tep, new_dep_time]])\n",
        "predicted_p_percent = model_p_percent.predict([[new_teos, new_teb, new_tep, new_dep_time]])\n",
        "predicted_b_percent = model_b_percent.predict([[new_teos, new_teb, new_tep, new_dep_time]])\n",
        "predicted_etch_ratio = model_etch_ratio.predict([[new_teos, new_teb, new_tep, new_dep_time]])\n",
        "\n",
        "# Display the predicted values\n",
        "print(\"Predicted Thickness:\", predicted_thickness)\n",
        "print(\"Predicted P%:\", predicted_p_percent)\n",
        "print(\"Predicted B%:\", predicted_b_percent)\n",
        "print(\"Predicted Etch Ratio:\", predicted_etch_ratio)\n"
      ]
    }
  ]
}